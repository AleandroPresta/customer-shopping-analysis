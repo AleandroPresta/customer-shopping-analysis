{
 "cells": [
  {
   "cell_type": "markdown",
   "metadata": {},
   "source": [
    "# Apple Quality Analysis\n",
    "\n",
    "## Introduction\n",
    "\n",
    "This analysis explores the quality of apples in the dataset and tries to predict the quality of apples based on the features in the dataset.\n",
    "\n",
    "## Data Exploration\n",
    "### Importing the dataset"
   ]
  }
 ],
 "metadata": {
  "language_info": {
   "name": "python"
  }
 },
 "nbformat": 4,
 "nbformat_minor": 2
}
